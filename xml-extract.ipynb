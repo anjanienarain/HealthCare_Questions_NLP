{
 "cells": [
  {
   "cell_type": "code",
   "execution_count": 2,
   "metadata": {},
   "outputs": [
    {
     "name": "stdout",
     "output_type": "stream",
     "text": [
      "Collecting elementpath\n",
      "  Downloading elementpath-2.2.0-py3-none-any.whl (142 kB)\n",
      "\u001b[K     |████████████████████████████████| 142 kB 2.8 MB/s eta 0:00:01\n",
      "\u001b[?25hInstalling collected packages: elementpath\n",
      "Successfully installed elementpath-2.2.0\n"
     ]
    }
   ],
   "source": [
    "!pip install elementpath"
   ]
  },
  {
   "cell_type": "code",
   "execution_count": null,
   "metadata": {},
   "outputs": [],
   "source": [
    "#create new file in folder\n",
    "#newFile = open('NIH_Questions.txt', 'x')"
   ]
  },
  {
   "cell_type": "code",
   "execution_count": 40,
   "metadata": {},
   "outputs": [],
   "source": [
    "import xml.etree.ElementTree as ET \n",
    "data = 'NIHCollectionAll.xml'\n",
    "tree = ET.parse(data)\n",
    "root = tree.getroot()"
   ]
  },
  {
   "cell_type": "code",
   "execution_count": 47,
   "metadata": {},
   "outputs": [],
   "source": [
    "with open('NIH_Question.txt', 'w') as file:\n",
    "    for i in root.findall('clinical_question'):\n",
    "        question = i.find('original_question').text\n",
    "        #print(question)\n",
    "        file.write(question)"
   ]
  }
 ],
 "metadata": {
  "kernelspec": {
   "display_name": "Python 3",
   "language": "python",
   "name": "python3"
  },
  "language_info": {
   "codemirror_mode": {
    "name": "ipython",
    "version": 3
   },
   "file_extension": ".py",
   "mimetype": "text/x-python",
   "name": "python",
   "nbconvert_exporter": "python",
   "pygments_lexer": "ipython3",
   "version": "3.8.2"
  }
 },
 "nbformat": 4,
 "nbformat_minor": 4
}
